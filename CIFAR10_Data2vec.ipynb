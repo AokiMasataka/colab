{
  "nbformat": 4,
  "nbformat_minor": 0,
  "metadata": {
    "colab": {
      "name": "CIFAR10_Data2vec.ipynb",
      "provenance": [],
      "authorship_tag": "ABX9TyMC5bN2Fwlllvbi8KiVcD+M",
      "include_colab_link": true
    },
    "kernelspec": {
      "name": "python3",
      "display_name": "Python 3"
    },
    "language_info": {
      "name": "python"
    },
    "accelerator": "GPU",
    "widgets": {
      "application/vnd.jupyter.widget-state+json": {
        "80671877bb5a42e380b97aec1d578155": {
          "model_module": "@jupyter-widgets/controls",
          "model_name": "HBoxModel",
          "model_module_version": "1.5.0",
          "state": {
            "_view_name": "HBoxView",
            "_dom_classes": [],
            "_model_name": "HBoxModel",
            "_view_module": "@jupyter-widgets/controls",
            "_model_module_version": "1.5.0",
            "_view_count": null,
            "_view_module_version": "1.5.0",
            "box_style": "",
            "layout": "IPY_MODEL_c6531c686b4440d5921cbfcb0d152c50",
            "_model_module": "@jupyter-widgets/controls",
            "children": [
              "IPY_MODEL_95b4eda4dfc04be1b7aecaf34ee0bb28",
              "IPY_MODEL_08dd0e976089447ca6c5bd4303602e69",
              "IPY_MODEL_de3c51eaeb544541a8c9d95fc290268b"
            ]
          }
        },
        "c6531c686b4440d5921cbfcb0d152c50": {
          "model_module": "@jupyter-widgets/base",
          "model_name": "LayoutModel",
          "model_module_version": "1.2.0",
          "state": {
            "_view_name": "LayoutView",
            "grid_template_rows": null,
            "right": null,
            "justify_content": null,
            "_view_module": "@jupyter-widgets/base",
            "overflow": null,
            "_model_module_version": "1.2.0",
            "_view_count": null,
            "flex_flow": null,
            "width": null,
            "min_width": null,
            "border": null,
            "align_items": null,
            "bottom": null,
            "_model_module": "@jupyter-widgets/base",
            "top": null,
            "grid_column": null,
            "overflow_y": null,
            "overflow_x": null,
            "grid_auto_flow": null,
            "grid_area": null,
            "grid_template_columns": null,
            "flex": null,
            "_model_name": "LayoutModel",
            "justify_items": null,
            "grid_row": null,
            "max_height": null,
            "align_content": null,
            "visibility": null,
            "align_self": null,
            "height": null,
            "min_height": null,
            "padding": null,
            "grid_auto_rows": null,
            "grid_gap": null,
            "max_width": null,
            "order": null,
            "_view_module_version": "1.2.0",
            "grid_template_areas": null,
            "object_position": null,
            "object_fit": null,
            "grid_auto_columns": null,
            "margin": null,
            "display": null,
            "left": null
          }
        },
        "95b4eda4dfc04be1b7aecaf34ee0bb28": {
          "model_module": "@jupyter-widgets/controls",
          "model_name": "HTMLModel",
          "model_module_version": "1.5.0",
          "state": {
            "_view_name": "HTMLView",
            "style": "IPY_MODEL_f639cc35c29a4a86a0ff111549707d7c",
            "_dom_classes": [],
            "description": "",
            "_model_name": "HTMLModel",
            "placeholder": "​",
            "_view_module": "@jupyter-widgets/controls",
            "_model_module_version": "1.5.0",
            "value": "",
            "_view_count": null,
            "_view_module_version": "1.5.0",
            "description_tooltip": null,
            "_model_module": "@jupyter-widgets/controls",
            "layout": "IPY_MODEL_7bcb1ff79c10420988ba4343ec4e92c0"
          }
        },
        "08dd0e976089447ca6c5bd4303602e69": {
          "model_module": "@jupyter-widgets/controls",
          "model_name": "FloatProgressModel",
          "model_module_version": "1.5.0",
          "state": {
            "_view_name": "ProgressView",
            "style": "IPY_MODEL_adf4719f20c14c60a1be7b95d5f4cbf8",
            "_dom_classes": [],
            "description": "",
            "_model_name": "FloatProgressModel",
            "bar_style": "success",
            "max": 170498071,
            "_view_module": "@jupyter-widgets/controls",
            "_model_module_version": "1.5.0",
            "value": 170498071,
            "_view_count": null,
            "_view_module_version": "1.5.0",
            "orientation": "horizontal",
            "min": 0,
            "description_tooltip": null,
            "_model_module": "@jupyter-widgets/controls",
            "layout": "IPY_MODEL_015b156a86eb4b2dbdad2e0072cade6d"
          }
        },
        "de3c51eaeb544541a8c9d95fc290268b": {
          "model_module": "@jupyter-widgets/controls",
          "model_name": "HTMLModel",
          "model_module_version": "1.5.0",
          "state": {
            "_view_name": "HTMLView",
            "style": "IPY_MODEL_cb10139290734d4a8e566aa42c8eed65",
            "_dom_classes": [],
            "description": "",
            "_model_name": "HTMLModel",
            "placeholder": "​",
            "_view_module": "@jupyter-widgets/controls",
            "_model_module_version": "1.5.0",
            "value": " 170499072/? [00:02&lt;00:00, 62196026.94it/s]",
            "_view_count": null,
            "_view_module_version": "1.5.0",
            "description_tooltip": null,
            "_model_module": "@jupyter-widgets/controls",
            "layout": "IPY_MODEL_23e15cdd609b4e9c98050fb247e3fda9"
          }
        },
        "f639cc35c29a4a86a0ff111549707d7c": {
          "model_module": "@jupyter-widgets/controls",
          "model_name": "DescriptionStyleModel",
          "model_module_version": "1.5.0",
          "state": {
            "_view_name": "StyleView",
            "_model_name": "DescriptionStyleModel",
            "description_width": "",
            "_view_module": "@jupyter-widgets/base",
            "_model_module_version": "1.5.0",
            "_view_count": null,
            "_view_module_version": "1.2.0",
            "_model_module": "@jupyter-widgets/controls"
          }
        },
        "7bcb1ff79c10420988ba4343ec4e92c0": {
          "model_module": "@jupyter-widgets/base",
          "model_name": "LayoutModel",
          "model_module_version": "1.2.0",
          "state": {
            "_view_name": "LayoutView",
            "grid_template_rows": null,
            "right": null,
            "justify_content": null,
            "_view_module": "@jupyter-widgets/base",
            "overflow": null,
            "_model_module_version": "1.2.0",
            "_view_count": null,
            "flex_flow": null,
            "width": null,
            "min_width": null,
            "border": null,
            "align_items": null,
            "bottom": null,
            "_model_module": "@jupyter-widgets/base",
            "top": null,
            "grid_column": null,
            "overflow_y": null,
            "overflow_x": null,
            "grid_auto_flow": null,
            "grid_area": null,
            "grid_template_columns": null,
            "flex": null,
            "_model_name": "LayoutModel",
            "justify_items": null,
            "grid_row": null,
            "max_height": null,
            "align_content": null,
            "visibility": null,
            "align_self": null,
            "height": null,
            "min_height": null,
            "padding": null,
            "grid_auto_rows": null,
            "grid_gap": null,
            "max_width": null,
            "order": null,
            "_view_module_version": "1.2.0",
            "grid_template_areas": null,
            "object_position": null,
            "object_fit": null,
            "grid_auto_columns": null,
            "margin": null,
            "display": null,
            "left": null
          }
        },
        "adf4719f20c14c60a1be7b95d5f4cbf8": {
          "model_module": "@jupyter-widgets/controls",
          "model_name": "ProgressStyleModel",
          "model_module_version": "1.5.0",
          "state": {
            "_view_name": "StyleView",
            "_model_name": "ProgressStyleModel",
            "description_width": "",
            "_view_module": "@jupyter-widgets/base",
            "_model_module_version": "1.5.0",
            "_view_count": null,
            "_view_module_version": "1.2.0",
            "bar_color": null,
            "_model_module": "@jupyter-widgets/controls"
          }
        },
        "015b156a86eb4b2dbdad2e0072cade6d": {
          "model_module": "@jupyter-widgets/base",
          "model_name": "LayoutModel",
          "model_module_version": "1.2.0",
          "state": {
            "_view_name": "LayoutView",
            "grid_template_rows": null,
            "right": null,
            "justify_content": null,
            "_view_module": "@jupyter-widgets/base",
            "overflow": null,
            "_model_module_version": "1.2.0",
            "_view_count": null,
            "flex_flow": null,
            "width": null,
            "min_width": null,
            "border": null,
            "align_items": null,
            "bottom": null,
            "_model_module": "@jupyter-widgets/base",
            "top": null,
            "grid_column": null,
            "overflow_y": null,
            "overflow_x": null,
            "grid_auto_flow": null,
            "grid_area": null,
            "grid_template_columns": null,
            "flex": null,
            "_model_name": "LayoutModel",
            "justify_items": null,
            "grid_row": null,
            "max_height": null,
            "align_content": null,
            "visibility": null,
            "align_self": null,
            "height": null,
            "min_height": null,
            "padding": null,
            "grid_auto_rows": null,
            "grid_gap": null,
            "max_width": null,
            "order": null,
            "_view_module_version": "1.2.0",
            "grid_template_areas": null,
            "object_position": null,
            "object_fit": null,
            "grid_auto_columns": null,
            "margin": null,
            "display": null,
            "left": null
          }
        },
        "cb10139290734d4a8e566aa42c8eed65": {
          "model_module": "@jupyter-widgets/controls",
          "model_name": "DescriptionStyleModel",
          "model_module_version": "1.5.0",
          "state": {
            "_view_name": "StyleView",
            "_model_name": "DescriptionStyleModel",
            "description_width": "",
            "_view_module": "@jupyter-widgets/base",
            "_model_module_version": "1.5.0",
            "_view_count": null,
            "_view_module_version": "1.2.0",
            "_model_module": "@jupyter-widgets/controls"
          }
        },
        "23e15cdd609b4e9c98050fb247e3fda9": {
          "model_module": "@jupyter-widgets/base",
          "model_name": "LayoutModel",
          "model_module_version": "1.2.0",
          "state": {
            "_view_name": "LayoutView",
            "grid_template_rows": null,
            "right": null,
            "justify_content": null,
            "_view_module": "@jupyter-widgets/base",
            "overflow": null,
            "_model_module_version": "1.2.0",
            "_view_count": null,
            "flex_flow": null,
            "width": null,
            "min_width": null,
            "border": null,
            "align_items": null,
            "bottom": null,
            "_model_module": "@jupyter-widgets/base",
            "top": null,
            "grid_column": null,
            "overflow_y": null,
            "overflow_x": null,
            "grid_auto_flow": null,
            "grid_area": null,
            "grid_template_columns": null,
            "flex": null,
            "_model_name": "LayoutModel",
            "justify_items": null,
            "grid_row": null,
            "max_height": null,
            "align_content": null,
            "visibility": null,
            "align_self": null,
            "height": null,
            "min_height": null,
            "padding": null,
            "grid_auto_rows": null,
            "grid_gap": null,
            "max_width": null,
            "order": null,
            "_view_module_version": "1.2.0",
            "grid_template_areas": null,
            "object_position": null,
            "object_fit": null,
            "grid_auto_columns": null,
            "margin": null,
            "display": null,
            "left": null
          }
        }
      }
    }
  },
  "cells": [
    {
      "cell_type": "markdown",
      "metadata": {
        "id": "view-in-github",
        "colab_type": "text"
      },
      "source": [
        "<a href=\"https://colab.research.google.com/github/AokiMasataka/colab/blob/main/CIFAR10_Data2vec.ipynb\" target=\"_parent\"><img src=\"https://colab.research.google.com/assets/colab-badge.svg\" alt=\"Open In Colab\"/></a>"
      ]
    },
    {
      "cell_type": "markdown",
      "source": [
        "# Data2vec\n",
        "参考: https://ai.facebook.com/blog/the-first-high-performance-self-supervised-algorithm-that-works-for-speech-vision-and-text"
      ],
      "metadata": {
        "id": "RqLWhRZ1pIAf"
      }
    },
    {
      "cell_type": "code",
      "execution_count": 1,
      "metadata": {
        "id": "Yiu4eqY-Y31W"
      },
      "outputs": [],
      "source": [
        "import os\n",
        "from copy import deepcopy\n",
        "import numpy as np\n",
        "import matplotlib.pyplot as plt\n",
        "import torch\n",
        "from torch import nn, optim\n",
        "from torch.nn import functional\n",
        "from torch.backends import cudnn\n",
        "from torch.utils.data import DataLoader, Dataset\n",
        "from torchvision.datasets import CIFAR10\n",
        "from torchvision.models import resnet18\n",
        "device = 'cuda' if torch.cuda.is_available() else 'cpu'\n",
        "\n",
        "# set seed\n",
        "seed = 42\n",
        "os.environ['PYTHONHASHSEED'] = str(seed)\n",
        "np.random.seed(seed)\n",
        "torch.manual_seed(seed)\n",
        "torch.cuda.manual_seed(seed)\n",
        "cudnn.deterministic = True\n",
        "cudnn.benchmark = False"
      ]
    },
    {
      "cell_type": "code",
      "source": [
        "class MyDataset(Dataset):\n",
        "    def __init__(self, data, cut_out_size=None):\n",
        "        self.data_list = data\n",
        "        self.cut_out_size = cut_out_size\n",
        "\n",
        "    def __len__(self):\n",
        "        return len(self.data_list)\n",
        "    \n",
        "    def __getitem__(self, index):\n",
        "        one_data = self.data_list[index]\n",
        "        image = one_data[0]\n",
        "        image = np.array(image, dtype=np.float32) / 255.0\n",
        "        image = image.transpose(2, 0, 1)\n",
        "        image = torch.tensor(image, dtype=torch.float32)\n",
        "        if self.cut_out_size is not None:\n",
        "            cut_out_image = self.cut_out(deepcopy(image))\n",
        "            return image, cut_out_image\n",
        "        return image, one_data[1]\n",
        "    \n",
        "    def cut_out(self, image):\n",
        "        x_pos = np.random.randint(0, 32 - self.cut_out_size)\n",
        "        y_pos = np.random.randint(0, 32 - self.cut_out_size)\n",
        "        image[:, x_pos: x_pos + self.cut_out_size, y_pos: y_pos + self.cut_out_size] = 0\n",
        "        return image"
      ],
      "metadata": {
        "id": "zYptbnzJY_du"
      },
      "execution_count": 2,
      "outputs": []
    },
    {
      "cell_type": "code",
      "source": [
        "train_data = CIFAR10(root='.', train=True, transform=None, download=True)\n",
        "valid_data = CIFAR10(root='.', train=False, transform=None, download=True)\n",
        "\n",
        "cut_out_data = [train_data[i] for i in range(0, 20000)]\n",
        "train_data = [train_data[i] for i in range(20000, 40000)]\n",
        "\n",
        "cut_out_dataset = MyDataset(cut_out_data, cut_out_size=16)\n",
        "train_dataset = MyDataset(train_data)\n",
        "valid_dataset = MyDataset(valid_data)\n",
        "\n",
        "cut_out_loader = DataLoader(cut_out_dataset, batch_size=64, shuffle=False)\n",
        "train_loader = DataLoader(train_dataset, batch_size=64, shuffle=False)\n",
        "valid_loader = DataLoader(valid_dataset, batch_size=64, shuffle=False)"
      ],
      "metadata": {
        "colab": {
          "base_uri": "https://localhost:8080/",
          "height": 103,
          "referenced_widgets": [
            "80671877bb5a42e380b97aec1d578155",
            "c6531c686b4440d5921cbfcb0d152c50",
            "95b4eda4dfc04be1b7aecaf34ee0bb28",
            "08dd0e976089447ca6c5bd4303602e69",
            "de3c51eaeb544541a8c9d95fc290268b",
            "f639cc35c29a4a86a0ff111549707d7c",
            "7bcb1ff79c10420988ba4343ec4e92c0",
            "adf4719f20c14c60a1be7b95d5f4cbf8",
            "015b156a86eb4b2dbdad2e0072cade6d",
            "cb10139290734d4a8e566aa42c8eed65",
            "23e15cdd609b4e9c98050fb247e3fda9"
          ]
        },
        "id": "Kko_NJa2ZBKC",
        "outputId": "080bfc6a-2d01-415f-9e1b-fb12e9cb8401"
      },
      "execution_count": 3,
      "outputs": [
        {
          "output_type": "stream",
          "name": "stdout",
          "text": [
            "Downloading https://www.cs.toronto.edu/~kriz/cifar-10-python.tar.gz to ./cifar-10-python.tar.gz\n"
          ]
        },
        {
          "output_type": "display_data",
          "data": {
            "application/vnd.jupyter.widget-view+json": {
              "model_id": "80671877bb5a42e380b97aec1d578155",
              "version_minor": 0,
              "version_major": 2
            },
            "text/plain": [
              "  0%|          | 0/170498071 [00:00<?, ?it/s]"
            ]
          },
          "metadata": {}
        },
        {
          "output_type": "stream",
          "name": "stdout",
          "text": [
            "Extracting ./cifar-10-python.tar.gz to .\n",
            "Files already downloaded and verified\n"
          ]
        }
      ]
    },
    {
      "cell_type": "code",
      "source": [
        "origin_images, cut_out_images = iter(cut_out_loader).__next__()\n",
        "origin_image = origin_images[0]\n",
        "cut_out_image = cut_out_images[0]\n",
        "print(origin_image.shape, origin_image.min(), origin_image.max())\n",
        " \n",
        "origin_image = np.array(origin_image).transpose((1,2,0))\n",
        "cut_out_image = np.array(cut_out_image).transpose((1,2,0))\n",
        "image = np.concatenate((origin_image, cut_out_image), axis=1)\n",
        "plt.imshow(image)"
      ],
      "metadata": {
        "colab": {
          "base_uri": "https://localhost:8080/",
          "height": 253
        },
        "id": "QVn4sh7waHiM",
        "outputId": "ae11138d-da70-4af1-e2d7-2c52358d0a1c"
      },
      "execution_count": 4,
      "outputs": [
        {
          "output_type": "stream",
          "name": "stdout",
          "text": [
            "torch.Size([3, 32, 32]) tensor(0.) tensor(1.)\n"
          ]
        },
        {
          "output_type": "execute_result",
          "data": {
            "text/plain": [
              "<matplotlib.image.AxesImage at 0x7fe6f02afcd0>"
            ]
          },
          "metadata": {},
          "execution_count": 4
        },
        {
          "output_type": "display_data",
          "data": {
            "image/png": "[encoded data removed]",
            "text/plain": [
              "<Figure size 432x288 with 1 Axes>"
            ]
          },
          "metadata": {
            "needs_background": "light"
          }
        }
      ]
    },
    {
      "cell_type": "code",
      "source": [
        "class CustomNet(nn.Module):\n",
        "    def __init__(self):\n",
        "        super(CustomNet, self).__init__()\n",
        "        self.net = resnet18(pretrained=False, num_classes=10)\n",
        "    \n",
        "    def forward(self, image):\n",
        "        return self.net(image)\n",
        "    \n",
        "    def extract_features(self, image):\n",
        "        features = []\n",
        "        x = self.net.conv1(image)\n",
        "        x = self.net.bn1(x)\n",
        "        x = self.net.relu(x)\n",
        "\n",
        "        x_1 = self.net.layer1(x)\n",
        "        x_2 = self.net.layer2(x_1)\n",
        "        features.append(x_2)\n",
        "        x_3 = self.net.layer3(x_2)\n",
        "        features.append(x_3)\n",
        "        x_4 = self.net.layer4(x_3)\n",
        "        features.append(x_4)\n",
        "        return features"
      ],
      "metadata": {
        "id": "RiT1oJqVcglj"
      },
      "execution_count": 5,
      "outputs": []
    },
    {
      "cell_type": "code",
      "source": [
        "@torch.no_grad()\n",
        "def valid(model, valid_loader):\n",
        "    model.eval()\n",
        "    n_labels = valid_loader.dataset.__len__()\n",
        "    acc, mean_loss  = 0, 0\n",
        "    for images, labels in valid_loader:\n",
        "        images, labels = images.to(device), labels.to(device)\n",
        "        pred = model(images)\n",
        "        loss = functional.cross_entropy(pred, labels)\n",
        "        acc += sum(pred.cpu().argmax(dim=1) == labels.cpu())\n",
        "        mean_loss += loss.item()\n",
        "    acc = acc / n_labels\n",
        "    mean_loss = mean_loss / n_labels\n",
        "    return acc, mean_loss"
      ],
      "metadata": {
        "id": "e5L2MnSie0Pk"
      },
      "execution_count": 6,
      "outputs": []
    },
    {
      "cell_type": "code",
      "source": [
        "def train(model):\n",
        "    optimizer = optim.Adam(model.parameters(), lr=0.001)\n",
        "    max_acc = float('-Inf')\n",
        "    for epoch in range(1, 8 + 1):\n",
        "        model.train()\n",
        "        loss_list = []\n",
        "        for images, labels in train_loader:\n",
        "            images, labels = images.to(device), labels.to(device)\n",
        "\n",
        "            pred = model(images)\n",
        "            loss = functional.cross_entropy(pred, labels)\n",
        "            loss_list.append(loss.item())\n",
        "            \n",
        "            loss.backward()\n",
        "            optimizer.step()\n",
        "            optimizer.zero_grad()\n",
        "\n",
        "        mean_loss = np.mean(loss_list)\n",
        "        acc, valid_loss = valid(model, valid_loader)\n",
        "        if max_acc < acc:\n",
        "            max_acc = acc\n",
        "        print(f'INFO: [Train]  epoch: {epoch}  train loss: {mean_loss:.6f}  valid loss: {valid_loss:.6f}  acc: {acc:.3f}')\n",
        "    return max_acc"
      ],
      "metadata": {
        "id": "mmFTKpbpfGbO"
      },
      "execution_count": 7,
      "outputs": []
    },
    {
      "cell_type": "code",
      "source": [
        "def train_data2vec(student_model, teacher_model):\n",
        "    teacher_model.eval()\n",
        "    optimizer = optim.Adam(student_model.parameters(), lr=0.001)\n",
        "    for epoch in range(1, 8 + 1):\n",
        "        teacher_model.train()\n",
        "        loss_list = []\n",
        "        for origin_images, cut_out_image in cut_out_loader:\n",
        "            origin_images, cut_out_image = origin_images.to(device), cut_out_image.to(device)\n",
        "\n",
        "            with torch.no_grad():\n",
        "                teacher_pred = teacher_model.extract_features(origin_images)\n",
        "            student_pred = student_model.extract_features(cut_out_image)\n",
        "\n",
        "            for i in range(3):\n",
        "                if i == 0:\n",
        "                    loss = functional.mse_loss(student_pred[i], teacher_pred[i])\n",
        "                else:\n",
        "                    loss = loss + functional.mse_loss(student_pred[i], teacher_pred[i])\n",
        "            \n",
        "            loss_list.append(loss.item())\n",
        "            \n",
        "            loss.backward()\n",
        "            optimizer.step()\n",
        "            optimizer.zero_grad()\n",
        "\n",
        "        mean_loss = np.mean(loss_list)\n",
        "        print(f'INFO: [Data2vec]  epoch: {epoch}  train loss: {mean_loss:.5f}')"
      ],
      "metadata": {
        "id": "aLgJNiOffCWA"
      },
      "execution_count": 8,
      "outputs": []
    },
    {
      "cell_type": "code",
      "source": [
        "student_model = CustomNet().to(device)\n",
        "teacher_model = CustomNet().to(device)\n",
        "\n",
        "teacher_acc = train(teacher_model)\n",
        "train_data2vec(student_model, teacher_model)\n",
        "student_acc = train(student_model)\n",
        "print(f'teacher model accuracy: {teacher_acc:.6f}')\n",
        "print(f'student model accuracy: {student_acc:.6f}')"
      ],
      "metadata": {
        "colab": {
          "base_uri": "https://localhost:8080/"
        },
        "id": "ZNdQJhl-kPfN",
        "outputId": "5d9966da-b8c0-4d48-e625-909d2cedb2a1"
      },
      "execution_count": 9,
      "outputs": [
        {
          "output_type": "stream",
          "name": "stdout",
          "text": [
            "INFO: [Train]  epoch: 1  train loss: 1.583418  valid loss: 0.025970  acc: 0.403\n",
            "INFO: [Train]  epoch: 2  train loss: 1.247156  valid loss: 0.029293  acc: 0.385\n",
            "INFO: [Train]  epoch: 3  train loss: 1.057758  valid loss: 0.026330  acc: 0.454\n",
            "INFO: [Train]  epoch: 4  train loss: 0.902117  valid loss: 0.027691  acc: 0.472\n",
            "INFO: [Train]  epoch: 5  train loss: 0.760756  valid loss: 0.021111  acc: 0.597\n",
            "INFO: [Train]  epoch: 6  train loss: 0.659506  valid loss: 0.026020  acc: 0.535\n",
            "INFO: [Train]  epoch: 7  train loss: 0.557459  valid loss: 0.021646  acc: 0.610\n",
            "INFO: [Train]  epoch: 8  train loss: 0.460098  valid loss: 0.030437  acc: 0.541\n",
            "INFO: [Data2vec]  epoch: 1  train loss: 2.06769\n",
            "INFO: [Data2vec]  epoch: 2  train loss: 1.59567\n",
            "INFO: [Data2vec]  epoch: 3  train loss: 1.42119\n",
            "INFO: [Data2vec]  epoch: 4  train loss: 1.32030\n",
            "INFO: [Data2vec]  epoch: 5  train loss: 1.26026\n",
            "INFO: [Data2vec]  epoch: 6  train loss: 1.21450\n",
            "INFO: [Data2vec]  epoch: 7  train loss: 1.17425\n",
            "INFO: [Data2vec]  epoch: 8  train loss: 1.13914\n",
            "INFO: [Train]  epoch: 1  train loss: 1.255442  valid loss: 0.018170  acc: 0.593\n",
            "INFO: [Train]  epoch: 2  train loss: 0.893056  valid loss: 0.017616  acc: 0.614\n",
            "INFO: [Train]  epoch: 3  train loss: 0.683260  valid loss: 0.019145  acc: 0.623\n",
            "INFO: [Train]  epoch: 4  train loss: 0.542917  valid loss: 0.021964  acc: 0.607\n",
            "INFO: [Train]  epoch: 5  train loss: 0.430834  valid loss: 0.028602  acc: 0.545\n",
            "INFO: [Train]  epoch: 6  train loss: 0.333598  valid loss: 0.026022  acc: 0.607\n",
            "INFO: [Train]  epoch: 7  train loss: 0.243862  valid loss: 0.028986  acc: 0.595\n",
            "INFO: [Train]  epoch: 8  train loss: 0.190609  valid loss: 0.032847  acc: 0.595\n",
            "teacher model accuracy: 0.609800\n",
            "student model accuracy: 0.622900\n"
          ]
        }
      ]
    }
  ]
}