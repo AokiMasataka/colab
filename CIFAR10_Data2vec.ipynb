{
  "nbformat": 4,
  "nbformat_minor": 0,
  "metadata": {
    "colab": {
      "name": "CIFAR10_Data2vec.ipynb",
      "provenance": [],
      "authorship_tag": "ABX9TyPAHeYzdYM+ex65jrN3NMy+",
      "include_colab_link": true
    },
    "kernelspec": {
      "name": "python3",
      "display_name": "Python 3"
    },
    "language_info": {
      "name": "python"
    },
    "accelerator": "GPU"
  },
  "cells": [
    {
      "cell_type": "markdown",
      "metadata": {
        "id": "view-in-github",
        "colab_type": "text"
      },
      "source": [
        "<a href=\"https://colab.research.google.com/github/AokiMasataka/colab/blob/main/CIFAR10_Data2vec.ipynb\" target=\"_parent\"><img src=\"https://colab.research.google.com/assets/colab-badge.svg\" alt=\"Open In Colab\"/></a>"
      ]
    },
    {
      "cell_type": "markdown",
      "source": [
        "# Data2vec\n",
        "参考: https://ai.facebook.com/blog/the-first-high-performance-self-supervised-algorithm-that-works-for-speech-vision-and-text"
      ],
      "metadata": {
        "id": "RqLWhRZ1pIAf"
      }
    },
    {
      "cell_type": "code",
      "execution_count": null,
      "metadata": {
        "id": "Yiu4eqY-Y31W"
      },
      "outputs": [],
      "source": [
        "import os\n",
        "from copy import deepcopy\n",
        "import numpy as np\n",
        "import matplotlib.pyplot as plt\n",
        "import torch\n",
        "from torch import nn, optim\n",
        "from torch.nn import functional\n",
        "from torch.backends import cudnn\n",
        "from torch.utils.data import DataLoader, Dataset\n",
        "from torchvision.datasets import CIFAR10\n",
        "from torchvision.models import resnet18\n",
        "device = 'cuda' if torch.cuda.is_available() else 'cpu'\n",
        "\n",
        "# set seed\n",
        "seed = 42\n",
        "os.environ['PYTHONHASHSEED'] = str(seed)\n",
        "np.random.seed(seed)\n",
        "torch.manual_seed(seed)\n",
        "torch.cuda.manual_seed(seed)\n",
        "cudnn.deterministic = True\n",
        "cudnn.benchmark = False"
      ]
    },
    {
      "cell_type": "code",
      "source": [
        "class MyDataset(Dataset):\n",
        "    def __init__(self, data, cut_out_size=None):\n",
        "        self.data_list = data\n",
        "        self.cut_out_size = cut_out_size\n",
        "\n",
        "    def __len__(self):\n",
        "        return len(self.data_list)\n",
        "    \n",
        "    def __getitem__(self, index):\n",
        "        one_data = self.data_list[index]\n",
        "        image = one_data[0]\n",
        "        image = np.array(image, dtype=np.float32) / 255.0\n",
        "        image = image.transpose(2, 0, 1)\n",
        "        image = torch.tensor(image, dtype=torch.float32)\n",
        "        if self.cut_out_size is not None:\n",
        "            cut_out_image = self.cut_out(deepcopy(image))\n",
        "            return image, cut_out_image\n",
        "        return image, one_data[1]\n",
        "    \n",
        "    def cut_out(self, image):\n",
        "        x_pos = np.random.randint(0, 32 - self.cut_out_size)\n",
        "        y_pos = np.random.randint(0, 32 - self.cut_out_size)\n",
        "        image[:, x_pos: x_pos + self.cut_out_size, y_pos: y_pos + self.cut_out_size] = 0\n",
        "        return image"
      ],
      "metadata": {
        "id": "zYptbnzJY_du"
      },
      "execution_count": null,
      "outputs": []
    },
    {
      "cell_type": "code",
      "source": [
        "train_data = CIFAR10(root='.', train=True, transform=None, download=True)\n",
        "valid_data = CIFAR10(root='.', train=False, transform=None, download=True)\n",
        "\n",
        "cut_out_data = [train_data[i] for i in range(0, 20000)]\n",
        "train_data = [train_data[i] for i in range(20000, 40000)]\n",
        "\n",
        "cut_out_dataset = MyDataset(cut_out_data, cut_out_size=16)\n",
        "train_dataset = MyDataset(train_data)\n",
        "valid_dataset = MyDataset(valid_data)\n",
        "\n",
        "cut_out_loader = DataLoader(cut_out_dataset, batch_size=64, shuffle=False)\n",
        "train_loader = DataLoader(train_dataset, batch_size=64, shuffle=False)\n",
        "valid_loader = DataLoader(valid_dataset, batch_size=64, shuffle=False)"
      ],
      "metadata": {
        "colab": {
          "base_uri": "https://localhost:8080/"
        },
        "id": "Kko_NJa2ZBKC",
        "outputId": "de4ba838-79f3-468a-c017-4b4dd3aaeabf"
      },
      "execution_count": null,
      "outputs": [
        {
          "output_type": "stream",
          "name": "stdout",
          "text": [
            "Files already downloaded and verified\n",
            "Files already downloaded and verified\n"
          ]
        }
      ]
    },
    {
      "cell_type": "code",
      "source": [
        "origin_images, cut_out_images = iter(cut_out_loader).__next__()\n",
        "origin_image = origin_images[0]\n",
        "cut_out_image = cut_out_images[0]\n",
        "print(origin_image.shape, origin_image.min(), origin_image.max())\n",
        " \n",
        "origin_image = np.array(origin_image).transpose((1,2,0))\n",
        "cut_out_image = np.array(cut_out_image).transpose((1,2,0))\n",
        "image = np.concatenate((origin_image, cut_out_image), axis=1)\n",
        "plt.imshow(image)"
      ],
      "metadata": {
        "colab": {
          "base_uri": "https://localhost:8080/",
          "height": 253
        },
        "id": "QVn4sh7waHiM",
        "outputId": "ce80704a-ab4e-4be3-b77a-0f28fe6d9647"
      },
      "execution_count": null,
      "outputs": [
        {
          "output_type": "stream",
          "name": "stdout",
          "text": [
            "torch.Size([3, 32, 32]) tensor(0.) tensor(1.)\n"
          ]
        },
        {
          "output_type": "execute_result",
          "data": {
            "text/plain": [
              "<matplotlib.image.AxesImage at 0x7fd0dd1d65d0>"
            ]
          },
          "metadata": {},
          "execution_count": 8
        },
        {
          "output_type": "display_data",
          "data": {
            "image/png": "[encoded data removed]",
            "text/plain": [
              "<Figure size 432x288 with 1 Axes>"
            ]
          },
          "metadata": {
            "needs_background": "light"
          }
        }
      ]
    },
    {
      "cell_type": "code",
      "source": [
        "class CustomNet(nn.Module):\n",
        "    def __init__(self):\n",
        "        super(CustomNet, self).__init__()\n",
        "        self.net = resnet18(pretrained=False, num_classes=10)\n",
        "    \n",
        "    def forward(self, image):\n",
        "        return self.net(image)\n",
        "    \n",
        "    def extract_features(self, image):\n",
        "        features = []\n",
        "        x = self.net.conv1(image)\n",
        "        x = self.net.bn1(x)\n",
        "        x = self.net.relu(x)\n",
        "        # x = self.net.maxpool(x)\n",
        "\n",
        "        x_1 = self.net.layer1(x)\n",
        "        x_2 = self.net.layer2(x_1)\n",
        "        features.append(x_2)\n",
        "        x_3 = self.net.layer3(x_2)\n",
        "        features.append(x_3)\n",
        "        x_4 = self.net.layer4(x_3)\n",
        "        features.append(x_4)\n",
        "        return features"
      ],
      "metadata": {
        "id": "RiT1oJqVcglj"
      },
      "execution_count": null,
      "outputs": []
    },
    {
      "cell_type": "code",
      "source": [
        "@torch.no_grad()\n",
        "def valid(model, valid_loader):\n",
        "    model.eval()\n",
        "    n_labels = valid_loader.dataset.__len__()\n",
        "    acc = 0\n",
        "    mean_loss = 0\n",
        "    for images, labels in valid_loader:\n",
        "        images, labels = images.to(device), labels.to(device)\n",
        "        pred = model(images)\n",
        "        loss = functional.cross_entropy(pred, labels)\n",
        "        acc += sum(pred.cpu().argmax(dim=1) == labels.cpu())\n",
        "        mean_loss += loss.item()\n",
        "    acc = acc / n_labels\n",
        "    mean_loss = mean_loss / n_labels\n",
        "    return acc, mean_loss"
      ],
      "metadata": {
        "id": "e5L2MnSie0Pk"
      },
      "execution_count": null,
      "outputs": []
    },
    {
      "cell_type": "code",
      "source": [
        "def train(model):\n",
        "    optimizer = optim.Adam(model.parameters(), lr=0.001)\n",
        "    max_acc = float('-Inf')\n",
        "    for epoch in range(1, 8 + 1):\n",
        "        model.train()\n",
        "        loss_list = []\n",
        "        for images, labels in train_loader:\n",
        "            images, labels = images.to(device), labels.to(device)\n",
        "\n",
        "            pred = model(images)\n",
        "            loss = functional.cross_entropy(pred, labels)\n",
        "            loss_list.append(loss.item())\n",
        "            \n",
        "            loss.backward()\n",
        "            optimizer.step()\n",
        "            optimizer.zero_grad()\n",
        "\n",
        "        mean_loss = np.mean(loss_list)\n",
        "        acc, valid_loss = valid(model, valid_loader)\n",
        "        if max_acc < acc:\n",
        "            max_acc = acc\n",
        "        print(f'INFO: [Train]  epoch: {epoch}  train loss: {mean_loss:.6f}  valid loss: {valid_loss:.6f}  acc: {acc:.3f}')\n",
        "    return max_acc"
      ],
      "metadata": {
        "id": "mmFTKpbpfGbO"
      },
      "execution_count": null,
      "outputs": []
    },
    {
      "cell_type": "code",
      "source": [
        "def train_data2vec(student_model, teacher_model):\n",
        "    teacher_model.eval()\n",
        "    optimizer = optim.Adam(student_model.parameters(), lr=0.001)\n",
        "    for epoch in range(1, 8 + 1):\n",
        "        teacher_model.train()\n",
        "        loss_list = []\n",
        "        for origin_images, cut_out_image in cut_out_loader:\n",
        "            origin_images, cut_out_image = origin_images.to(device), cut_out_image.to(device)\n",
        "\n",
        "            with torch.no_grad():\n",
        "                teacher_pred = teacher_model.extract_features(origin_images)\n",
        "            student_pred = student_model.extract_features(cut_out_image)\n",
        "\n",
        "            for i in range(3):\n",
        "                if i == 0:\n",
        "                    loss = functional.mse_loss(student_pred[i], teacher_pred[i])\n",
        "                else:\n",
        "                    loss = loss + functional.mse_loss(student_pred[i], teacher_pred[i])\n",
        "            \n",
        "            loss_list.append(loss.item())\n",
        "            \n",
        "            loss.backward()\n",
        "            optimizer.step()\n",
        "            optimizer.zero_grad()\n",
        "\n",
        "        mean_loss = np.mean(loss_list)\n",
        "        print(f'INFO: [Data2vec]  epoch: {epoch}  train loss: {mean_loss:.5f}')"
      ],
      "metadata": {
        "id": "aLgJNiOffCWA"
      },
      "execution_count": null,
      "outputs": []
    },
    {
      "cell_type": "code",
      "source": [
        "student_model = CustomNet().to(device)\n",
        "teacher_model = CustomNet().to(device)\n",
        "\n",
        "teacher_acc = train(teacher_model)\n",
        "train_data2vec(student_model, teacher_model)\n",
        "student_acc = train(student_model)\n",
        "print(f'teacher model accuracy: {teacher_acc:.6f}')\n",
        "print(f'student model accuracy: {student_acc:.6f}')"
      ],
      "metadata": {
        "colab": {
          "base_uri": "https://localhost:8080/"
        },
        "id": "ZNdQJhl-kPfN",
        "outputId": "7fcbeab0-9b4c-4da9-c09e-b0827dd31e0b"
      },
      "execution_count": null,
      "outputs": [
        {
          "output_type": "stream",
          "name": "stdout",
          "text": [
            "INFO: [Train]  epoch: 1  train loss: 1.590738  valid loss: 0.022196  acc: 0.489\n",
            "INFO: [Train]  epoch: 2  train loss: 1.228983  valid loss: 0.022207  acc: 0.498\n",
            "INFO: [Train]  epoch: 3  train loss: 1.024028  valid loss: 0.022832  acc: 0.503\n",
            "INFO: [Train]  epoch: 4  train loss: 0.879422  valid loss: 0.024810  acc: 0.489\n",
            "INFO: [Train]  epoch: 5  train loss: 0.745217  valid loss: 0.025140  acc: 0.507\n",
            "INFO: [Train]  epoch: 6  train loss: 0.642758  valid loss: 0.024148  acc: 0.549\n",
            "INFO: [Train]  epoch: 7  train loss: 0.539871  valid loss: 0.025799  acc: 0.541\n",
            "INFO: [Train]  epoch: 8  train loss: 0.440810  valid loss: 0.025516  acc: 0.559\n",
            "INFO: [Data2vec]  epoch: 1  train loss: 2.34821\n",
            "INFO: [Data2vec]  epoch: 2  train loss: 1.84837\n",
            "INFO: [Data2vec]  epoch: 3  train loss: 1.63932\n",
            "INFO: [Data2vec]  epoch: 4  train loss: 1.50388\n",
            "INFO: [Data2vec]  epoch: 5  train loss: 1.39695\n",
            "INFO: [Data2vec]  epoch: 6  train loss: 1.31331\n",
            "INFO: [Data2vec]  epoch: 7  train loss: 1.25756\n",
            "INFO: [Data2vec]  epoch: 8  train loss: 1.21805\n",
            "INFO: [Train]  epoch: 1  train loss: 1.093008  valid loss: 0.016842  acc: 0.620\n",
            "INFO: [Train]  epoch: 2  train loss: 0.841930  valid loss: 0.017041  acc: 0.626\n",
            "INFO: [Train]  epoch: 3  train loss: 0.683097  valid loss: 0.017858  acc: 0.633\n",
            "INFO: [Train]  epoch: 4  train loss: 0.552494  valid loss: 0.020070  acc: 0.613\n",
            "INFO: [Train]  epoch: 5  train loss: 0.464514  valid loss: 0.028606  acc: 0.532\n",
            "INFO: [Train]  epoch: 6  train loss: 0.382359  valid loss: 0.027486  acc: 0.573\n",
            "INFO: [Train]  epoch: 7  train loss: 0.310277  valid loss: 0.024260  acc: 0.617\n",
            "INFO: [Train]  epoch: 8  train loss: 0.223374  valid loss: 0.027561  acc: 0.621\n",
            "teacher model accuracy: inf\n",
            "student model accuracy: inf\n"
          ]
        }
      ]
    }
  ]
}